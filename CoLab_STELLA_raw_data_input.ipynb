{
 "cells": [
  {
   "cell_type": "markdown",
   "id": "692662c7",
   "metadata": {
    "colab_type": "text",
    "id": "view-in-github"
   },
   "source": [
    "<a href=\"https://colab.research.google.com/github/Philliec459/Science-and-Technology-Society-Use-of-NASA-STELLA-Q2-Spectrometer-for-Eric/blob/main/CoLab_STELLA_raw_data_input.ipynb\" target=\"_parent\"><img src=\"https://colab.research.google.com/assets/colab-badge.svg\" alt=\"Open In Colab\"/></a>"
   ]
  },
  {
   "cell_type": "code",
   "execution_count": 1,
   "id": "8ee564bd-db05-4c7b-80ea-72595148f118",
   "metadata": {
    "id": "8ee564bd-db05-4c7b-80ea-72595148f118"
   },
   "outputs": [],
   "source": [
    "using_colab = True"
   ]
  },
  {
   "cell_type": "code",
   "execution_count": 2,
   "id": "c20050e0-3fe1-4bed-ab0b-cac1ed15a769",
   "metadata": {
    "colab": {
     "base_uri": "https://localhost:8080/"
    },
    "id": "c20050e0-3fe1-4bed-ab0b-cac1ed15a769",
    "outputId": "bc610dde-6fea-48d9-999a-8bccbad7ff73"
   },
   "outputs": [],
   "source": [
    "if using_colab:\n",
    "    !wget 'https://github.com/Philliec459/Launchpad-for-STS-Processing-of-STELLA-Spectrometer-Landsat-and-PACE-Ocean-Data/raw/main/data.csv'\n",
    "    !wget 'https://github.com/Philliec459/Science-and-Technology-Society-Use-of-NASA-STELLA-Q2-Spectrometer/raw/main/sts_nasa.png'\n",
    "    !wget 'https://github.com/Philliec459/Science-and-Technology-Society-Use-of-NASA-STELLA-Q2-Spectrometer/raw/main/Spectrum.png'\n",
    "    !wget 'https://github.com/Philliec459/Science-and-Technology-Society-Use-of-NASA-STELLA-Q2-Spectrometer/raw/main/STELLA_color.gif'\n",
    "\n",
    "\n",
    "    !pip install ipywidgets\n",
    "    !pip install altair\n",
    "    !pip install panel\n"
   ]
  },
  {
   "cell_type": "markdown",
   "id": "5b5f05fc-3f4b-4a1a-8c9f-f00382e39bac",
   "metadata": {
    "id": "5b5f05fc-3f4b-4a1a-8c9f-f00382e39bac"
   },
   "source": [
    "![image.png](https://github.com/Philliec459/Science-and-Technology-Society-Use-of-NASA-STELLA-Q2-Spectrometer-for-Eric/blob/main/sts_nasa.png?raw=1)\n",
    "\n",
    "\n",
    "# **Science-and-Technology-Society-Use-of-NASA-STELLA-Q2-Spectrometer**\n",
    "\n",
    "The **Science and Technology Society (STS) of Sarasota-Manatee Counties, Florida** is working with the NASA STELLA (Science and Technology Education for Land/Life Assessment) outreach program as a part of our STEM initiative. According to their site,\n",
    "\n",
    "- \"NASA STELLA instruments are portable low-cost do-it-yourself (DIY) instruments that support science education, and outreach through scientific engagement, inquiry, and discovery while helping you understand Landsat better\".\n",
    "\n",
    "**STELLA instruments are developed under the influence and inspiration of Landsat.** This alignment not only fulfills our project needs but also serves as a compelling addition to our STEAM initiatives:\n",
    "\n",
    "1) To train the minds young Floridians to be more aware of our wetlands, to care for them and about them.  Our program will bring more community publicity to the issue of wetlands change, as well.\n",
    "\n",
    "2) To expose our middle- and high- school aged students to real science, using real data.  That means how to use instrumentation and understand how the data is collected, and how the data can be used in the real world.  It means not only to create beautiful charts and images that form the good results, but also to understand that data must be collected in a proper and reproducible way, that there physics reasons for lack of accuracy and lack of precision that one must understand and minimize in order to achieve meaningful results.\n",
    "\n",
    "\n",
    "The NASA STELLA-Q2 is capable of making 18 different spectral measurements from the violet/blue portions of the electromagnetic spectrum out to near infrared regions (beyond our range of vision).The following figure **(1)** shows the visible spectrum by wavelength, and the yellow box indicates the STELLA-Q2 frequency range.\n",
    "\n",
    ">![image](https://github.com/Philliec459/Science-and-Technology-Society-Use-of-NASA-STELLA-Q2-Spectrometer-for-Eric/blob/main/Spectrum.png?raw=1)\n",
    "\n",
    "\n",
    "More can be found on the STELLA DIY instruments at the following link.\n",
    "\n",
    ">https://landsat.gsfc.nasa.gov/stella/\n",
    "\n",
    "\n"
   ]
  },
  {
   "cell_type": "markdown",
   "id": "42df51ee-0d20-4d3f-a8c6-694042f30073",
   "metadata": {
    "id": "42df51ee-0d20-4d3f-a8c6-694042f30073"
   },
   "source": [
    "### Load Python requirments:"
   ]
  },
  {
   "cell_type": "code",
   "execution_count": 3,
   "id": "06145c20-4c82-4c53-984b-a699007573e9",
   "metadata": {
    "id": "06145c20-4c82-4c53-984b-a699007573e9"
   },
   "outputs": [],
   "source": [
    "import numpy as np\n",
    "import pandas as pd\n",
    "import matplotlib.pyplot as plt\n",
    "import re\n",
    "import ipywidgets as widgets\n",
    "from IPython.display import display\n",
    "from ipywidgets import interact, FloatRangeSlider, Layout\n",
    "\n",
    "\n",
    "import matplotlib.colors as mcolors\n"
   ]
  },
  {
   "cell_type": "markdown",
   "id": "bd2a4c62-28e9-4646-b621-1e656a6b322a",
   "metadata": {
    "id": "bd2a4c62-28e9-4646-b621-1e656a6b322a"
   },
   "source": [
    "# **Load STELLA Data and setup this project.**\n",
    "\n",
    "\n",
    "## 1) Load the Excel data collected on the STELLA-Q2 micro SD card:\n",
    "---\n",
    "\n"
   ]
  },
  {
   "cell_type": "code",
   "execution_count": 4,
   "id": "d8d25bce-a1cc-4126-9a9d-aa18091f5cee",
   "metadata": {
    "colab": {
     "base_uri": "https://localhost:8080/",
     "height": 256
    },
    "id": "d8d25bce-a1cc-4126-9a9d-aa18091f5cee",
    "outputId": "49184fe0-e118-4836-e1fd-453613abc7c8",
    "tags": []
   },
   "outputs": [
    {
     "data": {
      "text/html": [
       "<div>\n",
       "<style scoped>\n",
       "    .dataframe tbody tr th:only-of-type {\n",
       "        vertical-align: middle;\n",
       "    }\n",
       "\n",
       "    .dataframe tbody tr th {\n",
       "        vertical-align: top;\n",
       "    }\n",
       "\n",
       "    .dataframe thead th {\n",
       "        text-align: right;\n",
       "    }\n",
       "</style>\n",
       "<table border=\"1\" class=\"dataframe\">\n",
       "  <thead>\n",
       "    <tr style=\"text-align: right;\">\n",
       "      <th></th>\n",
       "      <th>device_type</th>\n",
       "      <th>software_version</th>\n",
       "      <th>UID</th>\n",
       "      <th>Test</th>\n",
       "      <th>batch</th>\n",
       "      <th>weekday</th>\n",
       "      <th>timestamp_iso8601</th>\n",
       "      <th>decimal_hour</th>\n",
       "      <th>bandwidth_FWHM_nm</th>\n",
       "      <th>field_of_view_FWHM_DEG</th>\n",
       "      <th>...</th>\n",
       "      <th>irradiance_900nm_wheat_wavelength_nm</th>\n",
       "      <th>irradiance_900nm_wheat_wavelength_uncertainty_nm</th>\n",
       "      <th>irradiance_900nm_wheat_irradiance_uW_per_cm_squared</th>\n",
       "      <th>irradiance_900nm_wheat_irradiance_uncertainty_uW_per_cm_squared</th>\n",
       "      <th>irradiance_940nm_gold_wavelength_nm</th>\n",
       "      <th>irradiance_940nm_gold_wavelength_uncertainty_nm</th>\n",
       "      <th>irradiance_940nm_gold_irradiance_uW_per_cm_squared</th>\n",
       "      <th>irradiance_940nm_gold_irradiance_uncertainty_uW_per_cm_squared</th>\n",
       "      <th>battery_voltage</th>\n",
       "      <th>battery_percent</th>\n",
       "    </tr>\n",
       "  </thead>\n",
       "  <tbody>\n",
       "    <tr>\n",
       "      <th>0</th>\n",
       "      <td>STELLA-Q2</td>\n",
       "      <td>2.4.0</td>\n",
       "      <td>6858</td>\n",
       "      <td>White Card Full Sun</td>\n",
       "      <td>1</td>\n",
       "      <td>Friday</td>\n",
       "      <td>20240209T192947Z</td>\n",
       "      <td>19.4964</td>\n",
       "      <td>20</td>\n",
       "      <td>20</td>\n",
       "      <td>...</td>\n",
       "      <td>900</td>\n",
       "      <td>10</td>\n",
       "      <td>5217.29</td>\n",
       "      <td>626.075</td>\n",
       "      <td>940</td>\n",
       "      <td>10</td>\n",
       "      <td>3449.99</td>\n",
       "      <td>413.999</td>\n",
       "      <td>4.16</td>\n",
       "      <td>98</td>\n",
       "    </tr>\n",
       "    <tr>\n",
       "      <th>1</th>\n",
       "      <td>STELLA-Q2</td>\n",
       "      <td>2.4.0</td>\n",
       "      <td>6858</td>\n",
       "      <td>White Card Full Sun</td>\n",
       "      <td>1</td>\n",
       "      <td>Friday</td>\n",
       "      <td>20240209T192949Z</td>\n",
       "      <td>19.4969</td>\n",
       "      <td>20</td>\n",
       "      <td>20</td>\n",
       "      <td>...</td>\n",
       "      <td>900</td>\n",
       "      <td>10</td>\n",
       "      <td>5314.53</td>\n",
       "      <td>637.744</td>\n",
       "      <td>940</td>\n",
       "      <td>10</td>\n",
       "      <td>3517.93</td>\n",
       "      <td>422.152</td>\n",
       "      <td>4.16</td>\n",
       "      <td>98</td>\n",
       "    </tr>\n",
       "    <tr>\n",
       "      <th>2</th>\n",
       "      <td>STELLA-Q2</td>\n",
       "      <td>2.4.0</td>\n",
       "      <td>6858</td>\n",
       "      <td>White Card Full Sun</td>\n",
       "      <td>1</td>\n",
       "      <td>Friday</td>\n",
       "      <td>20240209T192950Z</td>\n",
       "      <td>19.4972</td>\n",
       "      <td>20</td>\n",
       "      <td>20</td>\n",
       "      <td>...</td>\n",
       "      <td>900</td>\n",
       "      <td>10</td>\n",
       "      <td>5423.45</td>\n",
       "      <td>650.814</td>\n",
       "      <td>940</td>\n",
       "      <td>10</td>\n",
       "      <td>3606.17</td>\n",
       "      <td>432.740</td>\n",
       "      <td>4.16</td>\n",
       "      <td>98</td>\n",
       "    </tr>\n",
       "    <tr>\n",
       "      <th>3</th>\n",
       "      <td>STELLA-Q2</td>\n",
       "      <td>2.4.0</td>\n",
       "      <td>6858</td>\n",
       "      <td>White Card Full Sun</td>\n",
       "      <td>1</td>\n",
       "      <td>Friday</td>\n",
       "      <td>20240209T192952Z</td>\n",
       "      <td>19.4978</td>\n",
       "      <td>20</td>\n",
       "      <td>20</td>\n",
       "      <td>...</td>\n",
       "      <td>900</td>\n",
       "      <td>10</td>\n",
       "      <td>5565.70</td>\n",
       "      <td>667.884</td>\n",
       "      <td>940</td>\n",
       "      <td>10</td>\n",
       "      <td>3707.64</td>\n",
       "      <td>444.917</td>\n",
       "      <td>4.16</td>\n",
       "      <td>98</td>\n",
       "    </tr>\n",
       "    <tr>\n",
       "      <th>4</th>\n",
       "      <td>STELLA-Q2</td>\n",
       "      <td>2.4.0</td>\n",
       "      <td>6858</td>\n",
       "      <td>White Card Full Sun</td>\n",
       "      <td>1</td>\n",
       "      <td>Friday</td>\n",
       "      <td>20240209T192953Z</td>\n",
       "      <td>19.4980</td>\n",
       "      <td>20</td>\n",
       "      <td>20</td>\n",
       "      <td>...</td>\n",
       "      <td>900</td>\n",
       "      <td>10</td>\n",
       "      <td>5476.79</td>\n",
       "      <td>657.215</td>\n",
       "      <td>940</td>\n",
       "      <td>10</td>\n",
       "      <td>3658.23</td>\n",
       "      <td>438.987</td>\n",
       "      <td>4.16</td>\n",
       "      <td>98</td>\n",
       "    </tr>\n",
       "  </tbody>\n",
       "</table>\n",
       "<p>5 rows × 84 columns</p>\n",
       "</div>"
      ],
      "text/plain": [
       "  device_type software_version   UID                 Test  batch  weekday  \\\n",
       "0   STELLA-Q2            2.4.0  6858  White Card Full Sun      1   Friday   \n",
       "1   STELLA-Q2            2.4.0  6858  White Card Full Sun      1   Friday   \n",
       "2   STELLA-Q2            2.4.0  6858  White Card Full Sun      1   Friday   \n",
       "3   STELLA-Q2            2.4.0  6858  White Card Full Sun      1   Friday   \n",
       "4   STELLA-Q2            2.4.0  6858  White Card Full Sun      1   Friday   \n",
       "\n",
       "   timestamp_iso8601  decimal_hour  bandwidth_FWHM_nm  field_of_view_FWHM_DEG  \\\n",
       "0   20240209T192947Z       19.4964                 20                      20   \n",
       "1   20240209T192949Z       19.4969                 20                      20   \n",
       "2   20240209T192950Z       19.4972                 20                      20   \n",
       "3   20240209T192952Z       19.4978                 20                      20   \n",
       "4   20240209T192953Z       19.4980                 20                      20   \n",
       "\n",
       "   ...  irradiance_900nm_wheat_wavelength_nm  \\\n",
       "0  ...                                   900   \n",
       "1  ...                                   900   \n",
       "2  ...                                   900   \n",
       "3  ...                                   900   \n",
       "4  ...                                   900   \n",
       "\n",
       "   irradiance_900nm_wheat_wavelength_uncertainty_nm  \\\n",
       "0                                                10   \n",
       "1                                                10   \n",
       "2                                                10   \n",
       "3                                                10   \n",
       "4                                                10   \n",
       "\n",
       "   irradiance_900nm_wheat_irradiance_uW_per_cm_squared  \\\n",
       "0                                            5217.29     \n",
       "1                                            5314.53     \n",
       "2                                            5423.45     \n",
       "3                                            5565.70     \n",
       "4                                            5476.79     \n",
       "\n",
       "   irradiance_900nm_wheat_irradiance_uncertainty_uW_per_cm_squared  \\\n",
       "0                                            626.075                 \n",
       "1                                            637.744                 \n",
       "2                                            650.814                 \n",
       "3                                            667.884                 \n",
       "4                                            657.215                 \n",
       "\n",
       "   irradiance_940nm_gold_wavelength_nm  \\\n",
       "0                                  940   \n",
       "1                                  940   \n",
       "2                                  940   \n",
       "3                                  940   \n",
       "4                                  940   \n",
       "\n",
       "   irradiance_940nm_gold_wavelength_uncertainty_nm  \\\n",
       "0                                               10   \n",
       "1                                               10   \n",
       "2                                               10   \n",
       "3                                               10   \n",
       "4                                               10   \n",
       "\n",
       "   irradiance_940nm_gold_irradiance_uW_per_cm_squared  \\\n",
       "0                                            3449.99    \n",
       "1                                            3517.93    \n",
       "2                                            3606.17    \n",
       "3                                            3707.64    \n",
       "4                                            3658.23    \n",
       "\n",
       "   irradiance_940nm_gold_irradiance_uncertainty_uW_per_cm_squared  \\\n",
       "0                                            413.999                \n",
       "1                                            422.152                \n",
       "2                                            432.740                \n",
       "3                                            444.917                \n",
       "4                                            438.987                \n",
       "\n",
       "   battery_voltage  battery_percent  \n",
       "0             4.16               98  \n",
       "1             4.16               98  \n",
       "2             4.16               98  \n",
       "3             4.16               98  \n",
       "4             4.16               98  \n",
       "\n",
       "[5 rows x 84 columns]"
      ]
     },
     "execution_count": 4,
     "metadata": {},
     "output_type": "execute_result"
    }
   ],
   "source": [
    "# 1) read the STELLA data file\n",
    "file = r'data.csv'\n",
    "df = pd.read_csv(file,index_col=False)\n",
    "\n",
    "\n",
    "# Remove leading/trailing whitespaces in column names\n",
    "df.columns = df.columns.str.strip()\n",
    "\n",
    "df.head()"
   ]
  },
  {
   "cell_type": "markdown",
   "id": "8895e895-76d5-4945-ba6a-3fb864c71b2c",
   "metadata": {
    "id": "8895e895-76d5-4945-ba6a-3fb864c71b2c"
   },
   "source": [
    "## Assign colors to each unique target name in the Test column:"
   ]
  },
  {
   "cell_type": "code",
   "execution_count": 5,
   "id": "2adc92d7-61ee-4fa8-9b69-3ea839d9187b",
   "metadata": {
    "colab": {
     "base_uri": "https://localhost:8080/",
     "height": 546
    },
    "id": "2adc92d7-61ee-4fa8-9b69-3ea839d9187b",
    "outputId": "af3c760c-3df3-4597-d792-92e0358ae65e"
   },
   "outputs": [
    {
     "name": "stdout",
     "output_type": "stream",
     "text": [
      "{'White Card Full Sun': '#e41a1c', 'Asphalt': '#377eb8', 'Grass': '#984ea3', 'Shady Grass': '#ffff33', 'White Card Shade': '#f781bf', 'Mud Bank': '#999999'}\n"
     ]
    },
    {
     "name": "stderr",
     "output_type": "stream",
     "text": [
      "/var/folders/lf/9hqr0q153ls52s9btzjc56080000gp/T/ipykernel_37768/3757987900.py:5: MatplotlibDeprecationWarning: The get_cmap function was deprecated in Matplotlib 3.7 and will be removed two minor releases later. Use ``matplotlib.colormaps[name]`` or ``matplotlib.colormaps.get_cmap(obj)`` instead.\n",
      "  colors = plt.cm.get_cmap('Set1', len(unique_tests)).colors  # Use 'Set1' for vibrant colors\n"
     ]
    }
   ],
   "source": [
    "# Get a list of unique test patterns from the 'Test' column\n",
    "unique_tests = df['Test'].unique()\n",
    "\n",
    "# Use a more vibrant colormap like 'Set1' or 'Accent'\n",
    "colors = plt.cm.get_cmap('Set1', len(unique_tests)).colors  # Use 'Set1' for vibrant colors\n",
    "\n",
    "# Create the test_colors dictionary with the unique test values and assigned vibrant colors\n",
    "test_colors = {test: mcolors.rgb2hex(colors[i]) for i, test in enumerate(unique_tests)}\n",
    "\n",
    "# Now you can use the test_colors dictionary\n",
    "print(test_colors)"
   ]
  },
  {
   "cell_type": "markdown",
   "id": "cc5c2ca3-a282-49bf-beb0-abf697f7e8aa",
   "metadata": {
    "id": "cc5c2ca3-a282-49bf-beb0-abf697f7e8aa"
   },
   "source": [
    "# **Plot Definitions:**"
   ]
  },
  {
   "cell_type": "code",
   "execution_count": 6,
   "id": "d0e3a8f2-6a93-4945-8b5b-572ddd4029eb",
   "metadata": {
    "id": "d0e3a8f2-6a93-4945-8b5b-572ddd4029eb",
    "tags": []
   },
   "outputs": [],
   "source": [
    "# Raw data plots\n",
    "def update_plot_dashed(timestamp_range):\n",
    "    plt.figure(figsize=(12, 6))\n",
    "\n",
    "    start_timestamp_index, end_timestamp_index = timestamp_range\n",
    "    test = df['Test'][start_timestamp_index]\n",
    "    testb = df['Test'][start_timestamp_index]\n",
    "    teste = df['Test'][end_timestamp_index]\n",
    "\n",
    "    # Loop over the range of timestamp indices\n",
    "    for timestamp_index in range(start_timestamp_index, end_timestamp_index + 1):\n",
    "        wavelength_data_list = []\n",
    "        irradiance_data_list = []\n",
    "\n",
    "        for wavelength in wavelengths:\n",
    "            wavelength_pattern = f'{wavelength}nm_(.*?)_irradiance_uW_per_cm_squared'\n",
    "            wavelength_columns = [col for col in df.columns if re.search(wavelength_pattern, col)]\n",
    "\n",
    "            for column in wavelength_columns:\n",
    "                #color = 'black'  # Default color for wavelengths not explicitly defined\n",
    "                color = test_colors[df['Test'][timestamp_index]]  # Get color based on 'Test' column value\n",
    "\n",
    "\n",
    "                # Check if the column exists before using it\n",
    "                if column in df.columns:\n",
    "                    # Extract wavelength data\n",
    "                    wavelength_data_str = wavelength\n",
    "                    try:\n",
    "                        wavelength_data = int(wavelength_data_str)  # Convert string to integer\n",
    "                    except ValueError:\n",
    "                        try:\n",
    "                            wavelength_data = float(wavelength_data_str)  # Convert string to float\n",
    "                        except ValueError:\n",
    "                            continue  # Skip if wavelength cannot be converted to int or float\n",
    "\n",
    "                    # Append data to lists\n",
    "                    wavelength_data_list.append(wavelength_data)\n",
    "                    irradiance_data_list.append(df[column][timestamp_index])\n",
    "\n",
    "        # Plot data points\n",
    "        plt.plot(wavelength_data_list, irradiance_data_list, linestyle='dotted', marker='o', markersize=5, markeredgecolor='blue', mfc='blue', linewidth=3, color=color)\n",
    "\n",
    "   #  https://www.thoughtco.com/the-visible-light-spectrum-2699036\n",
    "    # I modified to STELLA Colors too\n",
    "    plt.axvspan(300, 380, alpha=0.6, color='black',  label = 'Near UV from 300-380nm')\n",
    "    plt.axvspan(380, 425, alpha=0.9, color='violet', label = 'Violet from 380-425m')\n",
    "    plt.axvspan(425, 475, alpha=0.6, color='blue',   label = 'Blue from 425-475nm')\n",
    "    plt.axvspan(475, 510, alpha=0.6, color='cyan',   label = 'Cyan from 475-510nm')\n",
    "    plt.axvspan(510, 560, alpha=0.6, color='green',  label = 'Green from 510-560nm')\n",
    "    plt.axvspan(560, 590, alpha=0.2, color='yellow', label = 'Yellow from 560-590nm')\n",
    "    plt.axvspan(590, 625, alpha=0.3, color='orange', label = 'Orange from 590-625nm')\n",
    "    plt.axvspan(625, 690, alpha=0.6, color='red',    label = 'Red from 625-690nm')\n",
    "    plt.axvspan(690, 740, alpha=0.7, color='brown',  label = 'Brwon from 690-740nm')\n",
    "    plt.axvspan(740, 1000,alpha=0.7, color='black',  label = 'Near IR from 740-1000nm')\n",
    "\n",
    "    plt.xlabel('Wavelength (nm)')\n",
    "    plt.ylabel('Irradiance (uW/cm^2)')\n",
    "    #plt.legend(bbox_to_anchor=(1.05, 1), loc='upper left', borderaxespad=0.)\n",
    "    plt.xlim(350,950)\n",
    "    #plt.ylim(0,1500)\n",
    "    plt.grid()\n",
    "    #plt.title(f\"Raw Readings Irradiance Over Wavelength by Pattern Type: {test} \\n \\n Test Pattern {df['Test']}\")\n",
    "    plt.title(f\"Raw Readings Irradiance Over Wavelength by Pattern Type: {testb} - to -{teste}\")\n",
    "    plt.show()\n",
    "\n",
    "\n",
    "# Extract all unique wavelengths\n",
    "wavelengths = sorted(set(re.findall(r'(\\d+)nm_', ' '.join(df.columns))))\n",
    "\n"
   ]
  },
  {
   "cell_type": "markdown",
   "id": "194fb796-e5f6-45be-be9d-eada5c977425",
   "metadata": {
    "id": "194fb796-e5f6-45be-be9d-eada5c977425"
   },
   "source": [
    "# **Plot Raw Data Over a Continuous Sample Range:**"
   ]
  },
  {
   "cell_type": "code",
   "execution_count": 7,
   "id": "25520386-bf78-49ec-a51d-08aeabbee412",
   "metadata": {
    "id": "25520386-bf78-49ec-a51d-08aeabbee412",
    "tags": []
   },
   "outputs": [
    {
     "data": {
      "application/vnd.jupyter.widget-view+json": {
       "model_id": "892b0d0a4519482ca750a8751801d64a",
       "version_major": 2,
       "version_minor": 0
      },
      "text/plain": [
       "interactive(children=(IntRangeSlider(value=(0, 166), description='Timestamp Range', layout=Layout(width='90%')…"
      ]
     },
     "metadata": {},
     "output_type": "display_data"
    }
   ],
   "source": [
    "# Create a range slider widget for timestamp indices\n",
    "timestamp_range_slider = widgets.IntRangeSlider(value=(0, len(df) - 1), min=0, max=len(df) - 1, step=1, description='Timestamp Range', layout=Layout(width='90%'))\n",
    "\n",
    "# Create an interactive plot using widgets.interactive\n",
    "interactive_plot = widgets.interactive(update_plot_dashed, timestamp_range=timestamp_range_slider)\n",
    "\n",
    "# Display the interactive plot\n",
    "display(interactive_plot)\n"
   ]
  },
  {
   "cell_type": "code",
   "execution_count": null,
   "id": "75ec0426-f920-4f29-ab6c-e5e0b6f982bc",
   "metadata": {
    "id": "75ec0426-f920-4f29-ab6c-e5e0b6f982bc"
   },
   "outputs": [],
   "source": []
  }
 ],
 "metadata": {
  "accelerator": "GPU",
  "colab": {
   "gpuType": "T4",
   "include_colab_link": true,
   "provenance": []
  },
  "kernelspec": {
   "display_name": "Python 3 (ipykernel)",
   "language": "python",
   "name": "python3"
  },
  "language_info": {
   "codemirror_mode": {
    "name": "ipython",
    "version": 3
   },
   "file_extension": ".py",
   "mimetype": "text/x-python",
   "name": "python",
   "nbconvert_exporter": "python",
   "pygments_lexer": "ipython3",
   "version": "3.11.6"
  }
 },
 "nbformat": 4,
 "nbformat_minor": 5
}
